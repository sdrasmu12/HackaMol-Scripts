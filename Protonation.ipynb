{
 "cells": [
  {
   "cell_type": "code",
   "execution_count": 20,
   "metadata": {
    "collapsed": true
   },
   "outputs": [],
   "source": [
    "use HackaMol;\n",
    "use HackaMol::X::NERF;\n",
    "use Modern::Perl;"
   ]
  },
  {
   "cell_type": "code",
   "execution_count": 21,
   "metadata": {
    "collapsed": false
   },
   "outputs": [
    {
     "data": {
      "text/plain": [
       "12\n",
       "\n",
       "  N  -2.345483  -0.247640   3.482699\n",
       "  C  -1.467483  -0.186640   2.314699\n",
       "  C  -0.286483   0.773360   2.434699\n",
       "  O   0.865517   0.397360   2.204699\n",
       "  C  -2.293483   0.211360   1.088699\n",
       "  S  -1.313483   0.705360  -0.368301\n",
       "  N   3.407517  -1.065640  -1.425301\n",
       "  C   2.041517  -0.605640  -1.656301\n",
       "  C   1.986517   0.918360  -1.705301\n",
       "  O   1.296517   1.504360  -2.541301\n",
       "  C   1.109517  -1.126640  -0.565301\n",
       "  S  -0.637483  -1.074640  -1.078301\n"
      ]
     },
     "execution_count": 21,
     "metadata": {},
     "output_type": "execute_result"
    },
    {
     "name": "stderr",
     "output_type": "stream",
     "text": [
      "1\n"
     ]
    }
   ],
   "source": [
    "my $mol = HackaMol->read_file_mol('cystine_hvy.xyz');\n",
    "$mol->print_xyz;1"
   ]
  },
  {
   "cell_type": "markdown",
   "metadata": {},
   "source": [
    "### Build the two oxygens into the cystine molecule abstracted from PDB"
   ]
  },
  {
   "cell_type": "code",
   "execution_count": 22,
   "metadata": {
    "collapsed": false
   },
   "outputs": [
    {
     "data": {
      "text/plain": [
       "14\n",
       "\n",
       "  N  -2.345483  -0.247640   3.482699\n",
       "  C  -1.467483  -0.186640   2.314699\n",
       "  C  -0.286483   0.773360   2.434699\n",
       "  O   0.865517   0.397360   2.204699\n",
       "  C  -2.293483   0.211360   1.088699\n",
       "  S  -1.313483   0.705360  -0.368301\n",
       "  N   3.407517  -1.065640  -1.425301\n",
       "  C   2.041517  -0.605640  -1.656301\n",
       "  C   1.986517   0.918360  -1.705301\n",
       "  O   1.296517   1.504360  -2.541301\n",
       "  C   1.109517  -1.126640  -0.565301\n",
       "  S  -0.637483  -1.074640  -1.078301\n",
       "  O  -0.486492   2.009413   2.784226\n",
       "  O   2.675052   1.621284  -0.855702\n"
      ]
     },
     "execution_count": 22,
     "metadata": {},
     "output_type": "execute_result"
    },
    {
     "name": "stderr",
     "output_type": "stream",
     "text": [
      "GLOB(0x7f97f902aa08)\n"
     ]
    }
   ],
   "source": [
    "my @atoms = map{$_->xyz} $mol->all_atoms;\n",
    "my $nerf = HackaMol::X::NERF->new;\n",
    "\n",
    "my $o1 = $nerf->extend_abc( $atoms[3], $atoms[1], $atoms[2], 1.3, 120, 180 );\n",
    "my $o2 = $nerf->extend_abc( $atoms[9], $atoms[7], $atoms[8], 1.3, 120, 180 );\n",
    "\n",
    "$mol->push_atoms (\n",
    "    map{ HackaMol::Atom->new(Z => 8, coords => [$_]) } ($o1,$o2)\n",
    ");\n",
    "$mol->print_xyz;"
   ]
  },
  {
   "cell_type": "code",
   "execution_count": 23,
   "metadata": {
    "collapsed": false
   },
   "outputs": [
    {
     "data": {
      "text/plain": [
       "26\n",
       "\n",
       "  N  -2.345483  -0.247640   3.482699\n",
       "  C  -1.467483  -0.186640   2.314699\n",
       "  C  -0.286483   0.773360   2.434699\n",
       "  O   0.865517   0.397360   2.204699\n",
       "  C  -2.293483   0.211360   1.088699\n",
       "  S  -1.313483   0.705360  -0.368301\n",
       "  N   3.407517  -1.065640  -1.425301\n",
       "  C   2.041517  -0.605640  -1.656301\n",
       "  C   1.986517   0.918360  -1.705301\n",
       "  O   1.296517   1.504360  -2.541301\n",
       "  C   1.109517  -1.126640  -0.565301\n",
       "  S  -0.637483  -1.074640  -1.078301\n",
       "  O  -0.486492   2.009413   2.784226\n",
       "  O   2.675052   1.621284  -0.855702\n",
       "  H  -2.159105   0.327942   4.278921\n",
       "  H  -3.140742  -0.853901   3.479290\n",
       "  H   3.676616  -1.237166  -2.373017\n",
       "  H   4.059831  -1.223681  -0.684012\n",
       "  H  -0.904273  -1.522067   2.069082\n",
       "  H   1.813495  -0.491007  -3.103977\n",
       "  H  -2.937167   1.522658   1.253222\n",
       "  H  -2.550918  -1.152995   0.605831\n",
       "  H   0.790897  -0.679383   0.798276\n",
       "  H   1.373826  -2.338016  -1.354990\n",
       "  H  -0.634190   2.922191   3.042338\n",
       "  H   3.183508   2.140366  -0.228307\n"
      ]
     },
     "execution_count": 23,
     "metadata": {},
     "output_type": "execute_result"
    },
    {
     "name": "stderr",
     "output_type": "stream",
     "text": [
      "GLOB(0x7f97f902aa08)\n"
     ]
    }
   ],
   "source": [
    "my @atoms = map{$_->xyz} $mol->all_atoms;\n",
    "my $nerf = HackaMol::X::NERF->new;\n",
    "\n",
    "my $h1 = $nerf->extend_abc( $atoms[2], $atoms[1], $atoms[0], 1.0, 120, 1 );\n",
    "my $h2 = $nerf->extend_abc( $atoms[2], $atoms[1], $atoms[0], 1.0, 120, 180 );\n",
    "my $h3 = $nerf->extend_abc( $atoms[7], $atoms[5], $atoms[6], 1.0, 120, 1 );\n",
    "my $h4 = $nerf->extend_abc( $atoms[7], $atoms[5], $atoms[6], 1.0, 120, 180 );\n",
    "my $h5 = $nerf->extend_abc( $atoms[2], $atoms[0], $atoms[1], 1.47, 109, 120);\n",
    "my $h6 = $nerf->extend_abc( $atoms[8], $atoms[6], $atoms[7], 1.47, 109, 90);\n",
    "my $h7 = $nerf->extend_abc( $atoms[5], $atoms[3], $atoms[4], 1.47, 109, -90);\n",
    "my $h8 = $nerf->extend_abc( $atoms[5], $atoms[3], $atoms[4], 1.47, 109, 90);\n",
    "my $h9 = $nerf->extend_abc( $atoms[11], $atoms[9], $atoms[10], 1.47, 109, 270);\n",
    "my $h10 = $nerf->extend_abc( $atoms[11], $atoms[9], $atoms[10], 1.47, 109, 90);\n",
    "my $h11 = $nerf->extend_abc( $atoms[3], $atoms[2], $atoms[12], 0.96, 180, 180);\n",
    "my $h12 = $nerf->extend_abc( $atoms[9], $atoms[8], $atoms[13], 0.96, 180, 90);\n",
    "\n",
    "\n",
    "$mol->push_atoms (\n",
    "    map{ HackaMol::Atom->new(Z => 1, coords => [$_]) } ($h1,$h2,$h3,$h4,$h5,$h6,$h7,$h8,$h9,$h10,$h11,$h12)\n",
    ");\n",
    "$mol->print_xyz;"
   ]
  },
  {
   "cell_type": "code",
   "execution_count": 24,
   "metadata": {
    "collapsed": false
   },
   "outputs": [
    {
     "name": "stderr",
     "output_type": "stream",
     "text": [
      "1\n"
     ]
    },
    {
     "ename": "Warning",
     "evalue": "overwrite cys_oo.xyz at reply input line 1.\n",
     "output_type": "error",
     "traceback": [
      "overwrite cys_oo.xyz at reply input line 1.\n"
     ]
    }
   ],
   "source": [
    "$mol->print_xyz('cys_oo.xyz');1;"
   ]
  },
  {
   "cell_type": "code",
   "execution_count": null,
   "metadata": {
    "collapsed": true
   },
   "outputs": [],
   "source": []
  }
 ],
 "metadata": {
  "kernelspec": {
   "display_name": "IPerl 0.005",
   "language": "perl",
   "name": "iperl"
  },
  "language_info": {
   "file_extension": ".pl",
   "mimetype": "text/x-perl",
   "name": "perl",
   "version": "5.20.1"
  }
 },
 "nbformat": 4,
 "nbformat_minor": 0
}
